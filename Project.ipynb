{
 "cells": [
  {
   "cell_type": "code",
   "execution_count": 1,
   "id": "52f788aa",
   "metadata": {},
   "outputs": [],
   "source": [
    "import os\n",
    "import numpy as np\n",
    "\n",
    "from PIL import Image\n",
    "\n",
    "from sklearn.model_selection import train_test_split\n",
    "from sklearn.preprocessing import LabelBinarizer\n",
    "\n",
    "import tensorflow as tf\n",
    "from tensorflow.keras import layers, models"
   ]
  },
  {
   "cell_type": "code",
   "execution_count": 2,
   "id": "8191b761",
   "metadata": {},
   "outputs": [],
   "source": [
    "data_dir = \"img\""
   ]
  },
  {
   "cell_type": "code",
   "execution_count": 3,
   "id": "c336ecbe",
   "metadata": {},
   "outputs": [],
   "source": [
    "X = [] \n",
    "Y = []\n",
    "for digit in range(10): # => 0 to 9\n",
    "    digit_dir = os.path.join(data_dir, str(digit)) # eg:- img/0\n",
    "    for img_file in os.listdir(digit_dir):\n",
    "        image = Image.open(os.path.join(digit_dir, img_file)) # => opening image file\n",
    "        image = image.resize((64, 64)) # resizing the image to 64x64 resolution\n",
    "        \n",
    "        #Normal image => (R, G, B) \n",
    "        #grayscale image => (L) \n",
    "        # (0) -> black\n",
    "        #(1-254) => shades of gray\n",
    "        # (255) -> white\n",
    "        image = image.convert(\"L\") # converting image to grayscale\n",
    "        \n",
    "        image = np.array(image) / 255.0 #converting to an array => [255, 255, 255, 0, 0, 255] / 255 =>  [1, 1, 1, 0, 0, 1]\n",
    "        \n",
    "        X.append(image)\n",
    "        Y.append(digit)\n",
    "\n",
    "X = np.array(X)\n",
    "Y = np.array(Y)"
   ]
  },
  {
   "cell_type": "code",
   "execution_count": 4,
   "id": "7b4ac9fe",
   "metadata": {},
   "outputs": [
    {
     "name": "stdout",
     "output_type": "stream",
     "text": [
      "9\n"
     ]
    }
   ],
   "source": [
    "Image.fromarray(X[925]*255).show() # viewing the image instance from dataset\n",
    "print(Y[925]) #corresponding output or label"
   ]
  },
  {
   "cell_type": "code",
   "execution_count": 5,
   "id": "f7ab2d5a",
   "metadata": {},
   "outputs": [
    {
     "name": "stdout",
     "output_type": "stream",
     "text": [
      "(960, 64, 64)\n",
      "(960,)\n"
     ]
    }
   ],
   "source": [
    "print(X.shape)\n",
    "print(Y.shape)"
   ]
  },
  {
   "cell_type": "code",
   "execution_count": 6,
   "id": "cdd7da11",
   "metadata": {},
   "outputs": [],
   "source": [
    "X_train, X_test, Y_train, Y_test = train_test_split(X, Y, test_size=0.2, random_state=42)"
   ]
  },
  {
   "cell_type": "code",
   "execution_count": 7,
   "id": "3f08fc3f",
   "metadata": {},
   "outputs": [],
   "source": [
    "label_binarizer = LabelBinarizer()"
   ]
  },
  {
   "cell_type": "code",
   "execution_count": 8,
   "id": "4d3cd766",
   "metadata": {},
   "outputs": [],
   "source": [
    "Y_train = label_binarizer.fit_transform(Y_train) #binary format to work with ML models\n",
    "Y_test = label_binarizer.transform(Y_test)"
   ]
  },
  {
   "cell_type": "code",
   "execution_count": 9,
   "id": "0242bc94",
   "metadata": {},
   "outputs": [],
   "source": [
    "# CNN Model\n",
    "model = models.Sequential([ #stack of layer\n",
    "    \n",
    "    # convolution layer\n",
    "    # add filter to the sample image -> extract features\n",
    "    # matrix multiplication with a loopy pattern/filter -> feature map\n",
    "    layers.Conv2D(32, (3, 3), activation='relu', input_shape=(64, 64, 1)),\n",
    "    \n",
    "    #8x8\n",
    "    \n",
    "    #Pooling layer\n",
    "    #reduce the dimensions of samples to reduce computation\n",
    "    layers.MaxPooling2D((2, 2)), \n",
    "    #(2x2)\n",
    "    layers.Flatten(), # converting to one dimensional vector array (1,n) (x, y, z, ....)\n",
    "    \n",
    "    #fully connected layer\n",
    "    layers.Dense(128, activation='relu'), # define neutral network for training => 128 neurons\n",
    "    layers.Dense(10, activation='softmax') #define output neutral network for predicting => 10 neurons => 0-9(10 digits)\n",
    "])"
   ]
  },
  {
   "cell_type": "code",
   "execution_count": 10,
   "id": "c1845357",
   "metadata": {},
   "outputs": [],
   "source": [
    "model.compile(optimizer='adam',\n",
    "              loss='categorical_crossentropy',\n",
    "              metrics=['accuracy'])"
   ]
  },
  {
   "cell_type": "code",
   "execution_count": 11,
   "id": "bc379696",
   "metadata": {},
   "outputs": [
    {
     "name": "stdout",
     "output_type": "stream",
     "text": [
      "Epoch 1/10\n",
      "24/24 [==============================] - 4s 131ms/step - loss: 2.3409 - accuracy: 0.3711 - val_loss: 0.9485 - val_accuracy: 0.8542\n",
      "Epoch 2/10\n",
      "24/24 [==============================] - 3s 121ms/step - loss: 0.4506 - accuracy: 0.9479 - val_loss: 0.2525 - val_accuracy: 0.9583\n",
      "Epoch 3/10\n",
      "24/24 [==============================] - 3s 120ms/step - loss: 0.1126 - accuracy: 0.9883 - val_loss: 0.1311 - val_accuracy: 0.9635\n",
      "Epoch 4/10\n",
      "24/24 [==============================] - 3s 119ms/step - loss: 0.0467 - accuracy: 0.9974 - val_loss: 0.0802 - val_accuracy: 0.9948\n",
      "Epoch 5/10\n",
      "24/24 [==============================] - 3s 118ms/step - loss: 0.0217 - accuracy: 1.0000 - val_loss: 0.0665 - val_accuracy: 0.9896\n",
      "Epoch 6/10\n",
      "24/24 [==============================] - 3s 117ms/step - loss: 0.0136 - accuracy: 1.0000 - val_loss: 0.0574 - val_accuracy: 0.9896\n",
      "Epoch 7/10\n",
      "24/24 [==============================] - 3s 119ms/step - loss: 0.0096 - accuracy: 1.0000 - val_loss: 0.0534 - val_accuracy: 0.9844\n",
      "Epoch 8/10\n",
      "24/24 [==============================] - 3s 119ms/step - loss: 0.0073 - accuracy: 1.0000 - val_loss: 0.0470 - val_accuracy: 0.9844\n",
      "Epoch 9/10\n",
      "24/24 [==============================] - 3s 123ms/step - loss: 0.0058 - accuracy: 1.0000 - val_loss: 0.0451 - val_accuracy: 0.9844\n",
      "Epoch 10/10\n",
      "24/24 [==============================] - 3s 120ms/step - loss: 0.0047 - accuracy: 1.0000 - val_loss: 0.0419 - val_accuracy: 0.9844\n"
     ]
    },
    {
     "data": {
      "text/plain": [
       "<keras.src.callbacks.History at 0x186462fa110>"
      ]
     },
     "execution_count": 11,
     "metadata": {},
     "output_type": "execute_result"
    }
   ],
   "source": [
    "model.fit(X_train, Y_train, epochs=10, validation_data=(X_test, Y_test)) #epoch => cycles; each cycle our models learns whole dataset once"
   ]
  },
  {
   "cell_type": "code",
   "execution_count": 13,
   "id": "5677e9fd",
   "metadata": {},
   "outputs": [
    {
     "name": "stdout",
     "output_type": "stream",
     "text": [
      "6/6 [==============================] - 0s 20ms/step - loss: 0.0419 - accuracy: 0.9844\n",
      "Test Loss: 4.18940968811512\n",
      "Test accuracy: 98.4375\n"
     ]
    }
   ],
   "source": [
    "test_loss, test_acc = model.evaluate(X_test, Y_test)\n",
    "\n",
    "print(f\"Test Loss: {test_loss*100}\")\n",
    "print(f\"Test accuracy: {test_acc*100}\")"
   ]
  },
  {
   "cell_type": "code",
   "execution_count": null,
   "id": "8b169d97",
   "metadata": {},
   "outputs": [],
   "source": []
  },
  {
   "cell_type": "code",
   "execution_count": null,
   "id": "3ae399de",
   "metadata": {},
   "outputs": [],
   "source": []
  },
  {
   "cell_type": "code",
   "execution_count": null,
   "id": "832e23ba",
   "metadata": {},
   "outputs": [],
   "source": []
  },
  {
   "cell_type": "code",
   "execution_count": null,
   "id": "42f706f9",
   "metadata": {},
   "outputs": [],
   "source": []
  },
  {
   "cell_type": "code",
   "execution_count": 30,
   "id": "6bc567dd",
   "metadata": {},
   "outputs": [
    {
     "name": "stdout",
     "output_type": "stream",
     "text": [
      "1/1 [==============================] - 0s 34ms/step\n",
      "[[5.9138388e-06 9.9934047e-01 7.8126395e-05 3.7168029e-05 6.2264386e-05\n",
      "  3.4349807e-05 9.9070712e-05 1.3977451e-07 3.4149823e-04 1.0081383e-06]]\n",
      "Predicted Digit: 1\n"
     ]
    }
   ],
   "source": [
    "# Load and preprocess the test image\n",
    "test_image_path = \"img/1/65.png\"\n",
    "\n",
    "test_image = Image.open(test_image_path) #opening the test image\n",
    "\n",
    "test_image.show()\n",
    "\n",
    "test_image = test_image.resize((64, 64)) #resizing the user-input image to 64x64 resolution\n",
    "test_image = test_image.convert(\"L\") #converting user-input image to grayscale format             \n",
    "test_image = np.array(test_image) / 255.0 # current format of (64, 64)\n",
    "\n",
    "test_image = np.expand_dims(test_image, 0) #(1, 64, 64) \n",
    "\n",
    "# Make predictions\n",
    "predictions = model.predict(test_image) # return array of probability\n",
    "print(predictions)\n",
    "predicted_digit = np.argmax(predictions) # return the index which has highest probability\n",
    "\n",
    "\n",
    "print(\"Predicted Digit:\", predicted_digit)"
   ]
  },
  {
   "cell_type": "code",
   "execution_count": null,
   "id": "7023eff0",
   "metadata": {},
   "outputs": [],
   "source": []
  },
  {
   "cell_type": "code",
   "execution_count": null,
   "id": "b21ef247",
   "metadata": {},
   "outputs": [],
   "source": [
    "# import pickle\n",
    "# pickle_out = open(\"model.pkl\", \"wb\")\n",
    "# pickle.dump(model, pickle_out)\n",
    "# pickle_out.close()"
   ]
  },
  {
   "cell_type": "code",
   "execution_count": 29,
   "id": "2ce261af",
   "metadata": {},
   "outputs": [
    {
     "name": "stdout",
     "output_type": "stream",
     "text": [
      "INFO:tensorflow:Assets written to: App/model\\assets\n"
     ]
    },
    {
     "name": "stderr",
     "output_type": "stream",
     "text": [
      "INFO:tensorflow:Assets written to: App/model\\assets\n"
     ]
    }
   ],
   "source": [
    "model.save(\"App/model\")"
   ]
  },
  {
   "cell_type": "code",
   "execution_count": null,
   "id": "2762b70a",
   "metadata": {},
   "outputs": [],
   "source": []
  }
 ],
 "metadata": {
  "kernelspec": {
   "display_name": "Python 3 (ipykernel)",
   "language": "python",
   "name": "python3"
  },
  "language_info": {
   "codemirror_mode": {
    "name": "ipython",
    "version": 3
   },
   "file_extension": ".py",
   "mimetype": "text/x-python",
   "name": "python",
   "nbconvert_exporter": "python",
   "pygments_lexer": "ipython3",
   "version": "3.11.4"
  }
 },
 "nbformat": 4,
 "nbformat_minor": 5
}
